{
  "cells": [
    {
      "cell_type": "markdown",
      "metadata": {
        "id": "zWHft0DvH2Ep"
      },
      "source": [
        "**Mounting Drive**"
      ]
    },
    {
      "cell_type": "code",
      "execution_count": 4,
      "metadata": {
        "colab": {
          "base_uri": "https://localhost:8080/"
        },
        "collapsed": true,
        "id": "JEHQZab0DEpF",
        "outputId": "7f4b4458-1bb0-49aa-f0c8-904d79b63398"
      },
      "outputs": [
        {
          "output_type": "stream",
          "name": "stdout",
          "text": [
            "Drive already mounted at /content/drive; to attempt to forcibly remount, call drive.mount(\"/content/drive\", force_remount=True).\n"
          ]
        }
      ],
      "source": [
        "from google.colab import drive\n",
        "drive.mount('/content/drive')"
      ]
    },
    {
      "cell_type": "markdown",
      "metadata": {
        "id": "DtQoMgVDIDp5"
      },
      "source": [
        "**Installing Required Libraries**"
      ]
    },
    {
      "cell_type": "code",
      "execution_count": 5,
      "metadata": {
        "colab": {
          "base_uri": "https://localhost:8080/"
        },
        "collapsed": true,
        "id": "Gl2HzZxtAQ3R",
        "outputId": "6e2e5dd1-1e1c-455d-d79d-2fbe9edfaecb"
      },
      "outputs": [
        {
          "output_type": "stream",
          "name": "stdout",
          "text": [
            "Requirement already satisfied: torch in /usr/local/lib/python3.10/dist-packages (2.5.0+cu121)\n",
            "Requirement already satisfied: torchvision in /usr/local/lib/python3.10/dist-packages (0.20.0+cu121)\n",
            "Requirement already satisfied: numpy in /usr/local/lib/python3.10/dist-packages (1.26.4)\n",
            "Requirement already satisfied: matplotlib in /usr/local/lib/python3.10/dist-packages (3.7.1)\n",
            "Requirement already satisfied: filelock in /usr/local/lib/python3.10/dist-packages (from torch) (3.16.1)\n",
            "Requirement already satisfied: typing-extensions>=4.8.0 in /usr/local/lib/python3.10/dist-packages (from torch) (4.12.2)\n",
            "Requirement already satisfied: networkx in /usr/local/lib/python3.10/dist-packages (from torch) (3.4.2)\n",
            "Requirement already satisfied: jinja2 in /usr/local/lib/python3.10/dist-packages (from torch) (3.1.4)\n",
            "Requirement already satisfied: fsspec in /usr/local/lib/python3.10/dist-packages (from torch) (2024.6.1)\n",
            "Requirement already satisfied: sympy==1.13.1 in /usr/local/lib/python3.10/dist-packages (from torch) (1.13.1)\n",
            "Requirement already satisfied: mpmath<1.4,>=1.1.0 in /usr/local/lib/python3.10/dist-packages (from sympy==1.13.1->torch) (1.3.0)\n",
            "Requirement already satisfied: pillow!=8.3.*,>=5.3.0 in /usr/local/lib/python3.10/dist-packages (from torchvision) (10.4.0)\n",
            "Requirement already satisfied: contourpy>=1.0.1 in /usr/local/lib/python3.10/dist-packages (from matplotlib) (1.3.0)\n",
            "Requirement already satisfied: cycler>=0.10 in /usr/local/lib/python3.10/dist-packages (from matplotlib) (0.12.1)\n",
            "Requirement already satisfied: fonttools>=4.22.0 in /usr/local/lib/python3.10/dist-packages (from matplotlib) (4.54.1)\n",
            "Requirement already satisfied: kiwisolver>=1.0.1 in /usr/local/lib/python3.10/dist-packages (from matplotlib) (1.4.7)\n",
            "Requirement already satisfied: packaging>=20.0 in /usr/local/lib/python3.10/dist-packages (from matplotlib) (24.1)\n",
            "Requirement already satisfied: pyparsing>=2.3.1 in /usr/local/lib/python3.10/dist-packages (from matplotlib) (3.2.0)\n",
            "Requirement already satisfied: python-dateutil>=2.7 in /usr/local/lib/python3.10/dist-packages (from matplotlib) (2.8.2)\n",
            "Requirement already satisfied: six>=1.5 in /usr/local/lib/python3.10/dist-packages (from python-dateutil>=2.7->matplotlib) (1.16.0)\n",
            "Requirement already satisfied: MarkupSafe>=2.0 in /usr/local/lib/python3.10/dist-packages (from jinja2->torch) (3.0.2)\n"
          ]
        }
      ],
      "source": [
        "!pip install torch torchvision numpy matplotlib\n"
      ]
    },
    {
      "cell_type": "markdown",
      "metadata": {
        "id": "jY95EoG2IRGk"
      },
      "source": [
        "**Importing Modules**"
      ]
    },
    {
      "cell_type": "code",
      "execution_count": 6,
      "metadata": {
        "id": "2fP0Vn3fFo_E"
      },
      "outputs": [],
      "source": [
        "import torch\n",
        "import torch.nn as nn\n",
        "import torch.optim as optim\n",
        "import torchvision\n",
        "from torchvision import datasets, transforms, models\n",
        "from torch.utils.data import DataLoader\n",
        "import matplotlib.pyplot as plt\n",
        "import numpy as np\n"
      ]
    },
    {
      "cell_type": "markdown",
      "metadata": {
        "id": "6gAFCHwiIWGZ"
      },
      "source": [
        "**Getting Dataset directly from Torchvision library nad transforming it because the ResNet takes 3-channel image as input**"
      ]
    },
    {
      "cell_type": "code",
      "execution_count": 7,
      "metadata": {
        "collapsed": true,
        "id": "ZOateGI7Fmiv"
      },
      "outputs": [],
      "source": [
        "# Define the transformation\n",
        "transform = transforms.Compose([\n",
        "    transforms.Grayscale(num_output_channels=3),  # Convert 1-channel to 3-channel\n",
        "    transforms.Resize((224, 224)),  # Resize images to 224x224\n",
        "    transforms.ToTensor(),  # Convert to Tensor\n",
        "    transforms.Normalize((0.5, 0.5, 0.5), (0.5, 0.5, 0.5))  # Normalize the image\n",
        "])\n",
        "\n",
        "# Load the training and test datasets from torchvision\n",
        "train_dataset = datasets.MNIST(root='./data', train=True, download=True, transform=transform)\n",
        "test_dataset = datasets.MNIST(root='./data', train=False, download=True, transform=transform)\n",
        "\n",
        "# Create data loaders\n",
        "train_loader = DataLoader(train_dataset, batch_size=64, shuffle=True)\n",
        "test_loader = DataLoader(test_dataset, batch_size=64, shuffle=False)\n"
      ]
    },
    {
      "cell_type": "markdown",
      "metadata": {
        "id": "Gwi4GgsSIqPN"
      },
      "source": [
        "**Loading Pre-Trained Resnet 18**"
      ]
    },
    {
      "cell_type": "code",
      "execution_count": 8,
      "metadata": {
        "colab": {
          "base_uri": "https://localhost:8080/"
        },
        "id": "ucJ8bPCzHrLK",
        "outputId": "4606b21b-ffdf-47fc-87ab-dbe228e5983a"
      },
      "outputs": [
        {
          "output_type": "stream",
          "name": "stderr",
          "text": [
            "/usr/local/lib/python3.10/dist-packages/torchvision/models/_utils.py:208: UserWarning: The parameter 'pretrained' is deprecated since 0.13 and may be removed in the future, please use 'weights' instead.\n",
            "  warnings.warn(\n",
            "/usr/local/lib/python3.10/dist-packages/torchvision/models/_utils.py:223: UserWarning: Arguments other than a weight enum or `None` for 'weights' are deprecated since 0.13 and may be removed in the future. The current behavior is equivalent to passing `weights=ResNet18_Weights.IMAGENET1K_V1`. You can also use `weights=ResNet18_Weights.DEFAULT` to get the most up-to-date weights.\n",
            "  warnings.warn(msg)\n",
            "Downloading: \"https://download.pytorch.org/models/resnet18-f37072fd.pth\" to /root/.cache/torch/hub/checkpoints/resnet18-f37072fd.pth\n",
            "100%|██████████| 44.7M/44.7M [00:01<00:00, 46.8MB/s]\n"
          ]
        },
        {
          "output_type": "stream",
          "name": "stdout",
          "text": [
            "Using GPU: Tesla T4\n"
          ]
        }
      ],
      "source": [
        "# Load the pretrained ResNet-18 model\n",
        "model = models.resnet18(pretrained=True)\n",
        "\n",
        "# Modify the final layer to have 10 output classes\n",
        "model.fc = nn.Linear(model.fc.in_features, 10)\n",
        "\n",
        "# Move the model to GPU if available\n",
        "device = torch.device(\"cuda\" if torch.cuda.is_available() else \"cpu\")\n",
        "model = model.to(device)\n",
        "\n",
        "# Print the device type\n",
        "if device.type == \"cuda\":\n",
        "    print(f\"Using GPU: {torch.cuda.get_device_name(0)}\")\n",
        "else:\n",
        "    print(\"Using CPU\")\n"
      ]
    },
    {
      "cell_type": "markdown",
      "metadata": {
        "id": "53L1ie0DI7u3"
      },
      "source": [
        "**Define Loss Function and Optimizer**"
      ]
    },
    {
      "cell_type": "code",
      "execution_count": 9,
      "metadata": {
        "id": "mrNGScKnI7K_"
      },
      "outputs": [],
      "source": [
        "# Define loss function and optimizer\n",
        "criterion = nn.CrossEntropyLoss()\n",
        "optimizer = optim.Adam(model.parameters(), lr=0.001)\n"
      ]
    },
    {
      "cell_type": "markdown",
      "metadata": {
        "id": "z4GgamUuJgT8"
      },
      "source": [
        "**Train the Model**"
      ]
    },
    {
      "cell_type": "code",
      "execution_count": 10,
      "metadata": {
        "colab": {
          "base_uri": "https://localhost:8080/"
        },
        "id": "MjDS11EcJfl-",
        "outputId": "b545bcb8-ffef-4fda-9f67-d6404e024669"
      },
      "outputs": [
        {
          "output_type": "stream",
          "name": "stdout",
          "text": [
            "Epoch [1/10]\n",
            "Batch [100/938], Loss: 0.1040\n",
            "Batch [200/938], Loss: 0.0419\n",
            "Batch [300/938], Loss: 0.0601\n",
            "Batch [400/938], Loss: 0.0347\n",
            "Batch [500/938], Loss: 0.0112\n",
            "Batch [600/938], Loss: 0.1302\n",
            "Batch [700/938], Loss: 0.0901\n",
            "Batch [800/938], Loss: 0.0102\n",
            "Batch [900/938], Loss: 0.0058\n",
            "Epoch [1/10] completed. Average Loss: 0.0656\n",
            "--------------------------------------------------\n",
            "Epoch [2/10]\n",
            "Batch [100/938], Loss: 0.0059\n",
            "Batch [200/938], Loss: 0.1240\n",
            "Batch [300/938], Loss: 0.0138\n",
            "Batch [400/938], Loss: 0.0043\n",
            "Batch [500/938], Loss: 0.0632\n",
            "Batch [600/938], Loss: 0.0081\n",
            "Batch [700/938], Loss: 0.0196\n",
            "Batch [800/938], Loss: 0.0239\n",
            "Batch [900/938], Loss: 0.0058\n",
            "Epoch [2/10] completed. Average Loss: 0.0348\n",
            "--------------------------------------------------\n",
            "Epoch [3/10]\n",
            "Batch [100/938], Loss: 0.0028\n",
            "Batch [200/938], Loss: 0.0840\n",
            "Batch [300/938], Loss: 0.0434\n",
            "Batch [400/938], Loss: 0.0541\n",
            "Batch [500/938], Loss: 0.0030\n",
            "Batch [600/938], Loss: 0.1789\n",
            "Batch [700/938], Loss: 0.0022\n",
            "Batch [800/938], Loss: 0.0078\n",
            "Batch [900/938], Loss: 0.0668\n",
            "Epoch [3/10] completed. Average Loss: 0.0273\n",
            "--------------------------------------------------\n",
            "Epoch [4/10]\n",
            "Batch [100/938], Loss: 0.0152\n",
            "Batch [200/938], Loss: 0.0026\n",
            "Batch [300/938], Loss: 0.0071\n",
            "Batch [400/938], Loss: 0.0411\n",
            "Batch [500/938], Loss: 0.0630\n",
            "Batch [600/938], Loss: 0.0059\n",
            "Batch [700/938], Loss: 0.0471\n",
            "Batch [800/938], Loss: 0.0018\n",
            "Batch [900/938], Loss: 0.1648\n",
            "Epoch [4/10] completed. Average Loss: 0.0230\n",
            "--------------------------------------------------\n",
            "Epoch [5/10]\n",
            "Batch [100/938], Loss: 0.0049\n",
            "Batch [200/938], Loss: 0.0013\n",
            "Batch [300/938], Loss: 0.0086\n",
            "Batch [400/938], Loss: 0.0025\n",
            "Batch [500/938], Loss: 0.0110\n",
            "Batch [600/938], Loss: 0.0117\n",
            "Batch [700/938], Loss: 0.0015\n",
            "Batch [800/938], Loss: 0.0014\n",
            "Batch [900/938], Loss: 0.0011\n",
            "Epoch [5/10] completed. Average Loss: 0.0188\n",
            "--------------------------------------------------\n",
            "Epoch [6/10]\n",
            "Batch [100/938], Loss: 0.0182\n",
            "Batch [200/938], Loss: 0.0038\n",
            "Batch [300/938], Loss: 0.0003\n",
            "Batch [400/938], Loss: 0.0006\n",
            "Batch [500/938], Loss: 0.0052\n",
            "Batch [600/938], Loss: 0.0039\n",
            "Batch [700/938], Loss: 0.0008\n",
            "Batch [800/938], Loss: 0.0492\n",
            "Batch [900/938], Loss: 0.0015\n",
            "Epoch [6/10] completed. Average Loss: 0.0159\n",
            "--------------------------------------------------\n",
            "Epoch [7/10]\n",
            "Batch [100/938], Loss: 0.0001\n",
            "Batch [200/938], Loss: 0.0003\n",
            "Batch [300/938], Loss: 0.0001\n",
            "Batch [400/938], Loss: 0.0080\n",
            "Batch [500/938], Loss: 0.0075\n",
            "Batch [600/938], Loss: 0.0258\n",
            "Batch [700/938], Loss: 0.0007\n",
            "Batch [800/938], Loss: 0.0110\n",
            "Batch [900/938], Loss: 0.0413\n",
            "Epoch [7/10] completed. Average Loss: 0.0131\n",
            "--------------------------------------------------\n",
            "Epoch [8/10]\n",
            "Batch [100/938], Loss: 0.0214\n",
            "Batch [200/938], Loss: 0.0003\n",
            "Batch [300/938], Loss: 0.0018\n",
            "Batch [400/938], Loss: 0.0041\n",
            "Batch [500/938], Loss: 0.0023\n",
            "Batch [600/938], Loss: 0.0013\n",
            "Batch [700/938], Loss: 0.1116\n",
            "Batch [800/938], Loss: 0.0619\n",
            "Batch [900/938], Loss: 0.0546\n",
            "Epoch [8/10] completed. Average Loss: 0.0138\n",
            "--------------------------------------------------\n",
            "Epoch [9/10]\n",
            "Batch [100/938], Loss: 0.0007\n",
            "Batch [200/938], Loss: 0.0117\n",
            "Batch [300/938], Loss: 0.0005\n",
            "Batch [400/938], Loss: 0.0051\n",
            "Batch [500/938], Loss: 0.0003\n",
            "Batch [600/938], Loss: 0.0000\n",
            "Batch [700/938], Loss: 0.0007\n",
            "Batch [800/938], Loss: 0.0080\n",
            "Batch [900/938], Loss: 0.0050\n",
            "Epoch [9/10] completed. Average Loss: 0.0110\n",
            "--------------------------------------------------\n",
            "Epoch [10/10]\n",
            "Batch [100/938], Loss: 0.0002\n",
            "Batch [200/938], Loss: 0.0034\n",
            "Batch [300/938], Loss: 0.0015\n",
            "Batch [400/938], Loss: 0.0068\n",
            "Batch [500/938], Loss: 0.0004\n",
            "Batch [600/938], Loss: 0.0149\n",
            "Batch [700/938], Loss: 0.0024\n",
            "Batch [800/938], Loss: 0.0000\n",
            "Batch [900/938], Loss: 0.0150\n",
            "Epoch [10/10] completed. Average Loss: 0.0087\n",
            "--------------------------------------------------\n"
          ]
        }
      ],
      "source": [
        "def train_model(model, train_loader, criterion, optimizer, device, num_epochs):\n",
        "    model.train()\n",
        "\n",
        "    for epoch in range(num_epochs):\n",
        "        running_loss = 0.0\n",
        "        total_batches = len(train_loader)  # Total number of batches in an epoch\n",
        "        print(f\"Epoch [{epoch+1}/{num_epochs}]\")\n",
        "\n",
        "        for batch_idx, (inputs, labels) in enumerate(train_loader):\n",
        "            inputs, labels = inputs.to(device), labels.to(device)\n",
        "\n",
        "            # Zero the parameter gradients\n",
        "            optimizer.zero_grad()\n",
        "\n",
        "            # Forward pass\n",
        "            outputs = model(inputs)\n",
        "            loss = criterion(outputs, labels)\n",
        "\n",
        "            # Backward pass and optimization\n",
        "            loss.backward()\n",
        "            optimizer.step()\n",
        "\n",
        "            # Accumulate loss\n",
        "            running_loss += loss.item()\n",
        "\n",
        "            # Print progress for every 100 batches\n",
        "            if (batch_idx + 1) % 100 == 0:\n",
        "                print(f\"Batch [{batch_idx+1}/{total_batches}], Loss: {loss.item():.4f}\")\n",
        "\n",
        "        # Calculate and print the average loss for the epoch\n",
        "        epoch_loss = running_loss / total_batches\n",
        "        print(f\"Epoch [{epoch+1}/{num_epochs}] completed. Average Loss: {epoch_loss:.4f}\")\n",
        "        print(\"-\" * 50)\n",
        "\n",
        "train_model(model, train_loader, criterion, optimizer, device, num_epochs=10)\n",
        "\n"
      ]
    },
    {
      "cell_type": "markdown",
      "metadata": {
        "id": "4mk8j54qK8Am"
      },
      "source": [
        "**Testing the Model**"
      ]
    },
    {
      "cell_type": "code",
      "execution_count": 11,
      "metadata": {
        "id": "oDTqQTN5K_tj",
        "colab": {
          "base_uri": "https://localhost:8080/"
        },
        "outputId": "10b13ef3-1463-40ec-90c7-44453c07163a"
      },
      "outputs": [
        {
          "output_type": "stream",
          "name": "stdout",
          "text": [
            "Test Accuracy: 99.45%\n"
          ]
        }
      ],
      "source": [
        "def test_model(model, test_loader, device):\n",
        "    model.eval()\n",
        "    correct = 0\n",
        "    total = 0\n",
        "\n",
        "    with torch.no_grad():\n",
        "        for inputs, labels in test_loader:\n",
        "            inputs, labels = inputs.to(device), labels.to(device)\n",
        "\n",
        "            # Forward pass\n",
        "            outputs = model(inputs)\n",
        "            _, predicted = torch.max(outputs, 1)\n",
        "            total += labels.size(0)\n",
        "            correct += (predicted == labels).sum().item()\n",
        "\n",
        "    accuracy = 100 * correct / total\n",
        "    print(f'Test Accuracy: {accuracy:.2f}%')\n",
        "\n",
        "test_model(model, test_loader, device)\n"
      ]
    },
    {
      "cell_type": "markdown",
      "metadata": {
        "id": "HHqdAp84LHRD"
      },
      "source": [
        "**Saving the Trained Model**"
      ]
    },
    {
      "cell_type": "code",
      "execution_count": 12,
      "metadata": {
        "id": "mwVeTTWZLC0D"
      },
      "outputs": [],
      "source": [
        "model_save_path = '/content/drive/MyDrive/mnist_resnet18.pth'\n",
        "torch.save(model.state_dict(), model_save_path)\n"
      ]
    },
    {
      "cell_type": "markdown",
      "metadata": {
        "id": "6yF-4qP_MV4X"
      },
      "source": [
        "**Inference**"
      ]
    },
    {
      "cell_type": "code",
      "execution_count": 13,
      "metadata": {
        "id": "HvabAe_dMVhb",
        "colab": {
          "base_uri": "https://localhost:8080/",
          "height": 563
        },
        "outputId": "a5275219-c126-4db3-e7f3-6072c8448227"
      },
      "outputs": [
        {
          "output_type": "stream",
          "name": "stderr",
          "text": [
            "/usr/local/lib/python3.10/dist-packages/torchvision/models/_utils.py:223: UserWarning: Arguments other than a weight enum or `None` for 'weights' are deprecated since 0.13 and may be removed in the future. The current behavior is equivalent to passing `weights=None`.\n",
            "  warnings.warn(msg)\n",
            "<ipython-input-13-bddb05b4f45d>:10: FutureWarning: You are using `torch.load` with `weights_only=False` (the current default value), which uses the default pickle module implicitly. It is possible to construct malicious pickle data which will execute arbitrary code during unpickling (See https://github.com/pytorch/pytorch/blob/main/SECURITY.md#untrusted-models for more details). In a future release, the default value for `weights_only` will be flipped to `True`. This limits the functions that could be executed during unpickling. Arbitrary objects will no longer be allowed to be loaded via this mode unless they are explicitly allowlisted by the user via `torch.serialization.add_safe_globals`. We recommend you start setting `weights_only=True` for any use case where you don't have full control of the loaded file. Please open an issue on GitHub for any issues related to this experimental feature.\n",
            "  model.load_state_dict(torch.load(model_save_path))\n",
            "WARNING:matplotlib.image:Clipping input data to the valid range for imshow with RGB data ([0..1] for floats or [0..255] for integers).\n"
          ]
        },
        {
          "output_type": "display_data",
          "data": {
            "text/plain": [
              "<Figure size 640x480 with 1 Axes>"
            ],
            "image/png": "[encoded data removed]"
          },
          "metadata": {}
        },
        {
          "output_type": "stream",
          "name": "stdout",
          "text": [
            "Predicted digit: 5\n"
          ]
        }
      ],
      "source": [
        "import torch\n",
        "from torchvision import models, transforms\n",
        "from PIL import Image\n",
        "import matplotlib.pyplot as plt\n",
        "\n",
        "# Load the saved model\n",
        "model_save_path = '/content/drive/MyDrive/mnist_resnet18.pth'\n",
        "model = models.resnet18(pretrained=False)\n",
        "model.fc = nn.Linear(model.fc.in_features, 10)\n",
        "model.load_state_dict(torch.load(model_save_path))\n",
        "device = torch.device(\"cuda\" if torch.cuda.is_available() else \"cpu\")\n",
        "model = model.to(device)\n",
        "model.eval()\n",
        "\n",
        "# Define the transformations\n",
        "transform = transforms.Compose([\n",
        "    transforms.Grayscale(num_output_channels=3),\n",
        "    transforms.Resize((224, 224)),\n",
        "    transforms.ToTensor(),\n",
        "    transforms.Normalize((0.5, 0.5, 0.5), (0.5, 0.5, 0.5))\n",
        "])\n",
        "\n",
        "# Load an external image\n",
        "image_path = '/content/drive/MyDrive/5.jpg'\n",
        "img = Image.open(image_path)\n",
        "\n",
        "# Apply transformations\n",
        "img = transform(img)\n",
        "\n",
        "# Add batch dimension\n",
        "img = img.unsqueeze(0)\n",
        "img = img.to(device)\n",
        "\n",
        "# Show the image (optional)\n",
        "plt.imshow(img.cpu().squeeze().permute(1, 2, 0).numpy())\n",
        "plt.show()\n",
        "\n",
        "# Perform inference\n",
        "with torch.no_grad():\n",
        "    output = model(img)\n",
        "\n",
        "# Get the predicted digit\n",
        "_, predicted = torch.max(output, 1)\n",
        "predicted_digit = predicted.item()\n",
        "print(f\"Predicted digit: {predicted_digit}\")\n"
      ]
    }
  ],
  "metadata": {
    "accelerator": "GPU",
    "colab": {
      "gpuType": "T4",
      "provenance": [],
      "authorship_tag": "ABX9TyPDR2vI0BenC10bsVApYF39"
    },
    "kernelspec": {
      "display_name": "Python 3",
      "name": "python3"
    },
    "language_info": {
      "name": "python"
    }
  },
  "nbformat": 4,
  "nbformat_minor": 0
}